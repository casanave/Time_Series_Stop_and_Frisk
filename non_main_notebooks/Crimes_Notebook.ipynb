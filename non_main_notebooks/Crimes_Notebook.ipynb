{
 "cells": [
  {
   "cell_type": "code",
   "execution_count": 7,
   "metadata": {
    "ExecuteTime": {
     "end_time": "2022-09-17T20:20:26.989329Z",
     "start_time": "2022-09-17T20:20:26.788655Z"
    }
   },
   "outputs": [],
   "source": [
    "import pandas as pd"
   ]
  },
  {
   "cell_type": "code",
   "execution_count": 1,
   "metadata": {
    "ExecuteTime": {
     "end_time": "2022-09-17T20:16:56.934981Z",
     "start_time": "2022-09-17T20:16:56.928638Z"
    }
   },
   "outputs": [],
   "source": [
    "## Crimes "
   ]
  },
  {
   "cell_type": "code",
   "execution_count": 4,
   "metadata": {
    "ExecuteTime": {
     "end_time": "2022-09-17T20:17:29.405836Z",
     "start_time": "2022-09-17T20:17:28.942925Z"
    }
   },
   "outputs": [],
   "source": [
    "import spacy \n",
    "\n",
    "nlp = spacy.load('en_core_web_sm')\n",
    "\n",
    "stopwords = nlp.Defaults.stop_words\n"
   ]
  },
  {
   "cell_type": "code",
   "execution_count": 5,
   "metadata": {
    "ExecuteTime": {
     "end_time": "2022-09-17T20:17:30.549267Z",
     "start_time": "2022-09-17T20:17:30.535896Z"
    }
   },
   "outputs": [
    {
     "ename": "NameError",
     "evalue": "name 'df_1' is not defined",
     "output_type": "error",
     "traceback": [
      "\u001b[0;31m---------------------------------------------------------------------------\u001b[0m",
      "\u001b[0;31mNameError\u001b[0m                                 Traceback (most recent call last)",
      "\u001b[0;32m<ipython-input-5-cc6769f88497>\u001b[0m in \u001b[0;36m<module>\u001b[0;34m\u001b[0m\n\u001b[0;32m----> 1\u001b[0;31m \u001b[0mlist_of_crimes_1\u001b[0m \u001b[0;34m=\u001b[0m \u001b[0;34m[\u001b[0m\u001b[0mx\u001b[0m\u001b[0;34m.\u001b[0m\u001b[0mlower\u001b[0m\u001b[0;34m(\u001b[0m\u001b[0;34m)\u001b[0m\u001b[0;34m.\u001b[0m\u001b[0msplit\u001b[0m\u001b[0;34m(\u001b[0m\u001b[0;34m'criminal '\u001b[0m\u001b[0;34m)\u001b[0m\u001b[0;34m[\u001b[0m\u001b[0;34m-\u001b[0m\u001b[0;36m1\u001b[0m\u001b[0;34m]\u001b[0m \u001b[0;32mfor\u001b[0m \u001b[0mx\u001b[0m \u001b[0;32min\u001b[0m \u001b[0mdf_1\u001b[0m\u001b[0;34m[\u001b[0m\u001b[0;34m'SUSPECTED_CRIME_DESCRIPTION'\u001b[0m\u001b[0;34m]\u001b[0m\u001b[0;34m.\u001b[0m\u001b[0munique\u001b[0m\u001b[0;34m(\u001b[0m\u001b[0;34m)\u001b[0m\u001b[0;34m]\u001b[0m\u001b[0;34m\u001b[0m\u001b[0;34m\u001b[0m\u001b[0m\n\u001b[0m\u001b[1;32m      2\u001b[0m \u001b[0mlist_of_crimes_1\u001b[0m\u001b[0;34m\u001b[0m\u001b[0;34m\u001b[0m\u001b[0m\n",
      "\u001b[0;31mNameError\u001b[0m: name 'df_1' is not defined"
     ]
    }
   ],
   "source": [
    "list_of_crimes_1 = [x.lower().split('criminal ')[-1] for x in df_1['SUSPECTED_CRIME_DESCRIPTION'].unique()]\n",
    "list_of_crimes_1"
   ]
  },
  {
   "cell_type": "code",
   "execution_count": 6,
   "metadata": {
    "ExecuteTime": {
     "end_time": "2022-09-17T20:17:33.342464Z",
     "start_time": "2022-09-17T20:17:33.339330Z"
    }
   },
   "outputs": [],
   "source": [
    "stopwords.add('use')"
   ]
  },
  {
   "cell_type": "code",
   "execution_count": null,
   "metadata": {},
   "outputs": [],
   "source": [
    "list_of_crimes_reformat = []\n",
    "\n",
    "for x in list_of_crimes_1:\n",
    "    list_of_crimes_reformat.append(\"_\")\n",
    "    doc = nlp(str(x))\n",
    "    for token in doc:\n",
    "        if not token.is_stop:\n",
    "            list_of_crimes_reformat.append(token.lemma_)\n",
    "\n",
    "crime_description = \"\"\n",
    "for x in list_of_crimes_reformat:\n",
    "    crime_description = crime_description + x\n",
    "    \n",
    "crime_descriptions = crime_description.split(\"_\")\n",
    "crime_descriptions"
   ]
  },
  {
   "cell_type": "code",
   "execution_count": null,
   "metadata": {},
   "outputs": [],
   "source": [
    "crime_descriptions.remove('')\n",
    "crime_descriptions"
   ]
  },
  {
   "cell_type": "code",
   "execution_count": null,
   "metadata": {},
   "outputs": [],
   "source": [
    "list_of_crimes_2 = [x.lower().split('criminal')[-1] for x in df_2['SUSPECTED_CRIME_DESCRIPTION'].astype(str).unique()]\n",
    "list_of_crimes_2"
   ]
  },
  {
   "cell_type": "code",
   "execution_count": null,
   "metadata": {},
   "outputs": [],
   "source": [
    "for crime_2 in list_of_crimes_2:\n",
    "    for crime_1 in list_of_crimes_1:\n",
    "        if crime_1 in crime_2:\n",
    "            crime_2 = crime_1"
   ]
  },
  {
   "cell_type": "code",
   "execution_count": null,
   "metadata": {},
   "outputs": [],
   "source": [
    "unique_crimes = set(list_of_crimes_2)"
   ]
  },
  {
   "cell_type": "code",
   "execution_count": null,
   "metadata": {},
   "outputs": [],
   "source": [
    "len(unique_crimes)"
   ]
  },
  {
   "cell_type": "code",
   "execution_count": null,
   "metadata": {},
   "outputs": [],
   "source": [
    "unique_crimes_reformat = []\n",
    "\n",
    "for x in unique_crimes:\n",
    "    unique_crimes_reformat.append(\"_\")\n",
    "    doc = nlp(str(x))\n",
    "    for token in doc:\n",
    "        if not token.is_stop:\n",
    "            unique_crimes_reformat.append(token.lemma_)           \n",
    "            \n",
    "unique_crimes_reformat\n",
    "\n",
    "unique_crime_description = \"\"\n",
    "for x in unique_crimes_reformat:\n",
    "    unique_crime_description = unique_crime_description + x\n",
    "    \n",
    "unique_crime_descriptions = unique_crime_description.split(\"_\")\n",
    "unique_crime_descriptions"
   ]
  },
  {
   "cell_type": "code",
   "execution_count": null,
   "metadata": {},
   "outputs": [],
   "source": [
    "from collections import defaultdict\n",
    "temp = defaultdict()\n",
    "\n",
    "def crimes_decoder(crime_description, unique_crimes):\n",
    "    for unique_crime in unique_crimes:\n",
    "        for crime_description in crime_descriptions:\n",
    "            if crime_description in unique_crime or unique_crime in crime_description:\n",
    "                temp[unique_crime]=crime_description\n",
    "#                 crimes_decoder_dict = {unique_crime : crime_description for unique_crime in unique_crimes}\n",
    "#                 return crimes_decoder_dict\n",
    "    return temp\n",
    "                \n",
    "crimes_decoder_dict = crimes_decoder(crime_description, unique_crimes)\n",
    "crimes_decoder_dict"
   ]
  },
  {
   "cell_type": "code",
   "execution_count": null,
   "metadata": {},
   "outputs": [],
   "source": [
    "df_2['SUSPECTED_CRIME_DESCRIPTION'] = df_2['SUSPECTED_CRIME_DESCRIPTION'].str.lower()"
   ]
  },
  {
   "cell_type": "code",
   "execution_count": null,
   "metadata": {},
   "outputs": [],
   "source": [
    "def get_decoded_crimes(crimes_decoder_dict, col):\n",
    "    for x in col:\n",
    "        try: \n",
    "            print(x.map)\n",
    "        except:\n",
    "            print(x)"
   ]
  },
  {
   "cell_type": "code",
   "execution_count": null,
   "metadata": {},
   "outputs": [],
   "source": [
    "get_decoded_crimes(crimes_decoder_dict, df_2['SUSPECTED_CRIME_DESCRIPTION'])"
   ]
  },
  {
   "cell_type": "code",
   "execution_count": null,
   "metadata": {},
   "outputs": [],
   "source": [
    "crimes = df_2['SUSPECTED_CRIME_DESCRIPTION'].value_counts().index"
   ]
  },
  {
   "cell_type": "code",
   "execution_count": null,
   "metadata": {},
   "outputs": [],
   "source": [
    "list_of_crimes = ['CPW',\n",
    "'ROBBERY',                                         \n",
    "'ASSAULT' ,                                        \n",
    "'PETIT LARCENY',                                   \n",
    "'BURGLARY',                                     \n",
    "'CRIMINAL TRESPASS',                               \n",
    "'OTHER',                                           \n",
    "'GRAND LARCENY',                                   \n",
    "'GRAND LARCENY AUTO',                              \n",
    "'MENACING',                                        \n",
    "'CRIMINAL MISCHIEF',                               \n",
    "'CRIMINAL POSSESSION OF MARIHUANA',                 \n",
    "'UNAUTHORIZED USE OF A VEHICLE',                    \n",
    "'RECKLESS ENDANGERMENT',                            \n",
    "'CRIMINAL SALE OF CONTROLLED SUBSTANCE',            \n",
    "'CRIMINAL POSSESSION OF CONTROLLED SUBSTANCE',      \n",
    "'CPSP',                                             \n",
    "'MAKING GRAFFITI',                                  \n",
    "'AUTO STRIPPIG',                                    \n",
    "'THEFT OF SERVICES',                               \n",
    "'FORCIBLE TOUCHING',                                \n",
    "'MURDER',                                           \n",
    "'RAPE',                                             \n",
    "'CRIMINAL SALE OF MARIHUANA',                       \n",
    "'CRIMINAL POSSESSION OF FORGED INSTRUMENT',         \n",
    "'TERRORISM',                                         \n",
    "'PROSTITUTION',                                      \n",
    "'MISD',                                            \n",
    "'MISDEMEANOR',                                       \n",
    "'FELONY']         "
   ]
  },
  {
   "cell_type": "code",
   "execution_count": null,
   "metadata": {},
   "outputs": [],
   "source": [
    "for x in list_of_crimes:\n",
    "    if x in crimes:\n",
    "        print(x)"
   ]
  },
  {
   "cell_type": "code",
   "execution_count": null,
   "metadata": {},
   "outputs": [],
   "source": []
  }
 ],
 "metadata": {
  "kernelspec": {
   "display_name": "Python (learn-env)",
   "language": "python",
   "name": "learn-env"
  },
  "language_info": {
   "codemirror_mode": {
    "name": "ipython",
    "version": 3
   },
   "file_extension": ".py",
   "mimetype": "text/x-python",
   "name": "python",
   "nbconvert_exporter": "python",
   "pygments_lexer": "ipython3",
   "version": "3.8.5"
  },
  "toc": {
   "base_numbering": 1,
   "nav_menu": {},
   "number_sections": true,
   "sideBar": true,
   "skip_h1_title": false,
   "title_cell": "Table of Contents",
   "title_sidebar": "Contents",
   "toc_cell": false,
   "toc_position": {},
   "toc_section_display": true,
   "toc_window_display": false
  }
 },
 "nbformat": 4,
 "nbformat_minor": 4
}
